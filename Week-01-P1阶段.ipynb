{
 "cells": [
  {
   "cell_type": "markdown",
   "metadata": {},
   "source": [
    "![](https://image-1256668828.cos.ap-shanghai.myqcloud.com/data_01.png)"
   ]
  },
  {
   "cell_type": "markdown",
   "metadata": {},
   "source": [
    "## 本周摘要\n",
    "\n",
    "- 学习路径\n",
    "- 项目一讲解"
   ]
  },
  {
   "cell_type": "markdown",
   "metadata": {},
   "source": [
    "- ` 讲师个人主页：` www.zhang-ran.com"
   ]
  },
  {
   "cell_type": "markdown",
   "metadata": {},
   "source": [
    ">- 开始录屏"
   ]
  },
  {
   "cell_type": "markdown",
   "metadata": {},
   "source": [
    "> `项目一讲解`\n",
    "\n",
    "- 课件加载\n",
    "- 论坛演示\n",
    "- 四个项目进度\n",
    "- 课件未看完亦可提交项目"
   ]
  },
  {
   "cell_type": "markdown",
   "metadata": {},
   "source": [
    "> [Excel 设置坐标轴和标题 动画](https://udacity-reviews-uploads.s3.us-west-2.amazonaws.com/_attachments/67065/1552198398/weather-tianjin10.gif)"
   ]
  },
  {
   "cell_type": "markdown",
   "metadata": {},
   "source": [
    "|项目|周数|\n",
    "| ------ | ------ |\n",
    "| 项目一 | Week00 -> Week01 |\n",
    "| 项目二 | Week02 -> Week05 |\n",
    "| 项目三 | Week06 -> Week08 |\n",
    "| 项目四 | Week09 -> Week12 |"
   ]
  },
  {
   "cell_type": "markdown",
   "metadata": {},
   "source": [
    "- SQL和Python的时间安排\n",
    "- 新手学习Python的注意：次序学习和结果导向\n",
    "- Jupyter Notebook 课件"
   ]
  },
  {
   "cell_type": "markdown",
   "metadata": {},
   "source": [
    "`开班仪式内容回顾`\n",
    "\n",
    "- 学习路径\n",
    "- 我的教室\n",
    "- 答疑路径\n",
    "- 班级主页\n",
    "- 浏览器推荐\n",
    "- 加讲师微信\n",
    "- 我的教室和项目提交演示\n",
    "\n"
   ]
  },
  {
   "cell_type": "markdown",
   "metadata": {},
   "source": [
    "> `选修拓展部分`"
   ]
  },
  {
   "cell_type": "code",
   "execution_count": 1,
   "metadata": {},
   "outputs": [],
   "source": [
    "# import pandas\n",
    "import pandas as pd\n",
    "\n",
    "# create a database engine\n",
    "from sqlalchemy import create_engine\n",
    "engine = create_engine('sqlite://', echo=False)\n",
    "\n",
    "# read csv file\n",
    "city_data = pd.read_csv('city_data.csv')\n",
    "global_data = pd.read_csv('global_data.csv')\n",
    "\n",
    "# create tables\n",
    "city_data.to_sql('city_data', con=engine)\n",
    "global_data.to_sql('global_data', con=engine)\n",
    "\n",
    "Save_filename = 'output.csv'"
   ]
  },
  {
   "cell_type": "code",
   "execution_count": 2,
   "metadata": {},
   "outputs": [],
   "source": [
    "# functionalization\n",
    "\n",
    "def sql_practice(SQLquery, Save_filename):\n",
    "    data = []\n",
    "    \n",
    "    # create a new dataframe using sql\n",
    "    dataset = engine.execute(SQLquery).fetchall()\n",
    "    print(dataset)\n",
    "    \n",
    "    for i in dataset:\n",
    "        data.append(i[1:])\n",
    "    dataframe = pd.DataFrame(data)\n",
    "    \n",
    "    #output the file as a csv file\n",
    "    file = open(Save_filename,\"w\")\n",
    "    dataframe.to_csv(file)\n",
    "    file.close()"
   ]
  },
  {
   "cell_type": "code",
   "execution_count": 3,
   "metadata": {},
   "outputs": [
    {
     "data": {
      "text/html": [
       "<div>\n",
       "<style scoped>\n",
       "    .dataframe tbody tr th:only-of-type {\n",
       "        vertical-align: middle;\n",
       "    }\n",
       "\n",
       "    .dataframe tbody tr th {\n",
       "        vertical-align: top;\n",
       "    }\n",
       "\n",
       "    .dataframe thead th {\n",
       "        text-align: right;\n",
       "    }\n",
       "</style>\n",
       "<table border=\"1\" class=\"dataframe\">\n",
       "  <thead>\n",
       "    <tr style=\"text-align: right;\">\n",
       "      <th></th>\n",
       "      <th>year</th>\n",
       "      <th>city</th>\n",
       "      <th>country</th>\n",
       "      <th>avg_temp</th>\n",
       "    </tr>\n",
       "  </thead>\n",
       "  <tbody>\n",
       "    <tr>\n",
       "      <th>0</th>\n",
       "      <td>1849</td>\n",
       "      <td>Abidjan</td>\n",
       "      <td>Côte D'Ivoire</td>\n",
       "      <td>25.58</td>\n",
       "    </tr>\n",
       "    <tr>\n",
       "      <th>1</th>\n",
       "      <td>1850</td>\n",
       "      <td>Abidjan</td>\n",
       "      <td>Côte D'Ivoire</td>\n",
       "      <td>25.52</td>\n",
       "    </tr>\n",
       "    <tr>\n",
       "      <th>2</th>\n",
       "      <td>1851</td>\n",
       "      <td>Abidjan</td>\n",
       "      <td>Côte D'Ivoire</td>\n",
       "      <td>25.67</td>\n",
       "    </tr>\n",
       "    <tr>\n",
       "      <th>3</th>\n",
       "      <td>1852</td>\n",
       "      <td>Abidjan</td>\n",
       "      <td>Côte D'Ivoire</td>\n",
       "      <td>NaN</td>\n",
       "    </tr>\n",
       "    <tr>\n",
       "      <th>4</th>\n",
       "      <td>1853</td>\n",
       "      <td>Abidjan</td>\n",
       "      <td>Côte D'Ivoire</td>\n",
       "      <td>NaN</td>\n",
       "    </tr>\n",
       "  </tbody>\n",
       "</table>\n",
       "</div>"
      ],
      "text/plain": [
       "   year     city        country  avg_temp\n",
       "0  1849  Abidjan  Côte D'Ivoire     25.58\n",
       "1  1850  Abidjan  Côte D'Ivoire     25.52\n",
       "2  1851  Abidjan  Côte D'Ivoire     25.67\n",
       "3  1852  Abidjan  Côte D'Ivoire       NaN\n",
       "4  1853  Abidjan  Côte D'Ivoire       NaN"
      ]
     },
     "execution_count": 3,
     "metadata": {},
     "output_type": "execute_result"
    }
   ],
   "source": [
    "city_data.head()"
   ]
  },
  {
   "cell_type": "code",
   "execution_count": 4,
   "metadata": {},
   "outputs": [
    {
     "data": {
      "text/html": [
       "<div>\n",
       "<style scoped>\n",
       "    .dataframe tbody tr th:only-of-type {\n",
       "        vertical-align: middle;\n",
       "    }\n",
       "\n",
       "    .dataframe tbody tr th {\n",
       "        vertical-align: top;\n",
       "    }\n",
       "\n",
       "    .dataframe thead th {\n",
       "        text-align: right;\n",
       "    }\n",
       "</style>\n",
       "<table border=\"1\" class=\"dataframe\">\n",
       "  <thead>\n",
       "    <tr style=\"text-align: right;\">\n",
       "      <th></th>\n",
       "      <th>year</th>\n",
       "      <th>avg_temp</th>\n",
       "    </tr>\n",
       "  </thead>\n",
       "  <tbody>\n",
       "    <tr>\n",
       "      <th>0</th>\n",
       "      <td>1750</td>\n",
       "      <td>8.72</td>\n",
       "    </tr>\n",
       "    <tr>\n",
       "      <th>1</th>\n",
       "      <td>1751</td>\n",
       "      <td>7.98</td>\n",
       "    </tr>\n",
       "    <tr>\n",
       "      <th>2</th>\n",
       "      <td>1752</td>\n",
       "      <td>5.78</td>\n",
       "    </tr>\n",
       "    <tr>\n",
       "      <th>3</th>\n",
       "      <td>1753</td>\n",
       "      <td>8.39</td>\n",
       "    </tr>\n",
       "    <tr>\n",
       "      <th>4</th>\n",
       "      <td>1754</td>\n",
       "      <td>8.47</td>\n",
       "    </tr>\n",
       "  </tbody>\n",
       "</table>\n",
       "</div>"
      ],
      "text/plain": [
       "   year  avg_temp\n",
       "0  1750      8.72\n",
       "1  1751      7.98\n",
       "2  1752      5.78\n",
       "3  1753      8.39\n",
       "4  1754      8.47"
      ]
     },
     "execution_count": 4,
     "metadata": {},
     "output_type": "execute_result"
    }
   ],
   "source": [
    "global_data.head()"
   ]
  },
  {
   "cell_type": "code",
   "execution_count": 5,
   "metadata": {},
   "outputs": [
    {
     "data": {
      "text/plain": [
       "[(1990, 10.94),\n",
       " (1991, 9.67),\n",
       " (1992, 10.15),\n",
       " (1993, 9.69),\n",
       " (1994, 10.48),\n",
       " (1995, 10.55),\n",
       " (1996, 9.27),\n",
       " (1997, 10.64),\n",
       " (1998, 10.4),\n",
       " (1999, 10.86),\n",
       " (2000, 10.52)]"
      ]
     },
     "execution_count": 5,
     "metadata": {},
     "output_type": "execute_result"
    }
   ],
   "source": [
    "# Q1:输出英国伦敦市1990年-2000年的平均气温\n",
    "\n",
    "SQLquery = \\\n",
    "\"SELECT year, avg_temp \\\n",
    "FROM city_data \\\n",
    "WHERE year \\\n",
    "BETWEEN 1990 AND 2000 \\\n",
    "AND city = 'London' \\\n",
    "AND country = 'United Kingdom'\"\n",
    "\n",
    "# sql_practice(SQLquery, Save_filename)\n",
    "engine.execute(SQLquery).fetchall()"
   ]
  },
  {
   "cell_type": "code",
   "execution_count": 6,
   "metadata": {},
   "outputs": [
    {
     "data": {
      "text/plain": [
       "[(1799, 7.94, 8.51),\n",
       " (1855, 8.03, 8.11),\n",
       " (1879, 7.62, 8.17),\n",
       " (1962, 8.65, 8.75),\n",
       " (1963, 8.48, 8.86),\n",
       " (2010, 9.38, 9.7)]"
      ]
     },
     "execution_count": 6,
     "metadata": {},
     "output_type": "execute_result"
    }
   ],
   "source": [
    "# Q2:输出英国伦敦市的平均温度低于全球当年平均温度的年份\n",
    "\n",
    "SQLquery = \\\n",
    "\"SELECT c.year, c.avg_temp AS city_temp, g.avg_temp AS global_temp \\\n",
    "FROM city_data AS c, global_data AS g \\\n",
    "WHERE c.year = g.year \\\n",
    "AND c.avg_temp < g.avg_temp \\\n",
    "AND c.city = 'London' \\\n",
    "AND c.country = 'United Kingdom'\"\n",
    "\n",
    "# sql_practice(SQLquery, Save_filename)\n",
    "engine.execute(SQLquery).fetchall()"
   ]
  },
  {
   "cell_type": "code",
   "execution_count": 7,
   "metadata": {},
   "outputs": [
    {
     "data": {
      "text/plain": [
       "[(2013, 17.88, 17.86)]"
      ]
     },
     "execution_count": 7,
     "metadata": {},
     "output_type": "execute_result"
    }
   ],
   "source": [
    "# Q3:输出南京市平均温度高于上海市的那些年份\n",
    "\n",
    "SQLquery = \\\n",
    "\"SELECT c1.year, \\\n",
    "c1.avg_temp AS Nj_temp, \\\n",
    "c2.avg_temp AS Sh_temp \\\n",
    "FROM city_data AS c1, \\\n",
    "city_data AS c2 \\\n",
    "WHERE c1.year = c2.year \\\n",
    "AND c1.avg_temp > c2.avg_temp \\\n",
    "AND c1.city = 'Nanjing' \\\n",
    "AND c2.city = 'Shanghai'\" \n",
    "\n",
    "# sql_practice(SQLquery, Save_filename)\n",
    "engine.execute(SQLquery).fetchall()"
   ]
  }
 ],
 "metadata": {
  "kernelspec": {
   "display_name": "Python 3",
   "language": "python",
   "name": "python3"
  },
  "language_info": {
   "codemirror_mode": {
    "name": "ipython",
    "version": 3
   },
   "file_extension": ".py",
   "mimetype": "text/x-python",
   "name": "python",
   "nbconvert_exporter": "python",
   "pygments_lexer": "ipython3",
   "version": "3.6.8"
  }
 },
 "nbformat": 4,
 "nbformat_minor": 2
}
