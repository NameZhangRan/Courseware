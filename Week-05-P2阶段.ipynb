{
 "cells": [
  {
   "cell_type": "markdown",
   "metadata": {},
   "source": [
    "![](https://image-1256668828.cos.ap-shanghai.myqcloud.com/data_01.png)"
   ]
  },
  {
   "cell_type": "markdown",
   "metadata": {},
   "source": [
    "## 本周摘要\n",
    "\n",
    "- 优化项目二的时间计算自定义函数\n",
    "- 优化用户交互自定义函数\n",
    "- 可视化和数据分析入门章节预告"
   ]
  },
  {
   "cell_type": "markdown",
   "metadata": {},
   "source": [
    ">- ### `鉴于部分同学们咨询项目二无从下手，我先回顾下上节的内容。`"
   ]
  },
  {
   "cell_type": "markdown",
   "metadata": {},
   "source": [
    ">- 开始录屏"
   ]
  },
  {
   "cell_type": "markdown",
   "metadata": {},
   "source": [
    "- ` 讲师个人主页：` www.zhang-ran.com"
   ]
  },
  {
   "cell_type": "markdown",
   "metadata": {},
   "source": [
    "> 代码优化"
   ]
  },
  {
   "cell_type": "code",
   "execution_count": 143,
   "metadata": {},
   "outputs": [
    {
     "name": "stdout",
     "output_type": "stream",
     "text": [
      "/Users/Ran/Desktop/DA入门课件ALL\n"
     ]
    }
   ],
   "source": [
    "# 查看当前文件路径\n",
    "\n",
    "import os\n",
    "cwd = os.getcwd()\n",
    "print(cwd)"
   ]
  },
  {
   "cell_type": "markdown",
   "metadata": {},
   "source": [
    "> 需要单独一个单元格的notebook来生成 .py 脚本"
   ]
  },
  {
   "cell_type": "code",
   "execution_count": 144,
   "metadata": {},
   "outputs": [
    {
     "name": "stdout",
     "output_type": "stream",
     "text": [
      "Q1/3:which city do you want to analyst?(chicago,new york city or washington)\n",
      "chicago\n",
      "Q2/3:which month do you want to analyst?(all,january, february, ... , june)\n",
      "all\n",
      "Q3/3:which day do you want to analyst?(all, monday, tuesday, ... sunday)\n",
      "all\n",
      "----------------------------------------\n",
      "analyzing ---  chicago\n",
      "\n",
      "Calculating Trip Duration...\n",
      "\n",
      "The total travel time is around 3250 day(s), 19 hour(s), 56 min(s), 27 sec(s) .\n",
      "The mean of travel time is around 15 min(s), 37 sec(s) .\n",
      "----------------------------------------\n"
     ]
    }
   ],
   "source": [
    "# 优化时间\n",
    "\n",
    "import math\n",
    "import pandas as pd\n",
    "import time\n",
    "import numpy as np\n",
    "\n",
    "CITY_DATA = { 'chicago': 'chicago.csv',\n",
    "              'new york city': 'new_york_city.csv',\n",
    "              'washington': 'washington.csv' }\n",
    "\n",
    "def get_filters():\n",
    "    city_list = ['chicago','new york city','washington']\n",
    "    month_list = ['all','january','february','march','april','may','june']\n",
    "    day_list = ['all','monday','tuesday','wednesday','thursday','friday','saturday','sunday']\n",
    "      \n",
    "    while True:\n",
    "        city = input('Q1/3:which city do you want to analyst?(chicago,new york city or washington)\\n')\n",
    "        if city in city_list:\n",
    "            break\n",
    "        else:\n",
    "            print('please ensure your input is one of the examples!') \n",
    "    while True:\n",
    "        month = input('Q2/3:which month do you want to analyst?(all,january, february, ... , june)\\n')\n",
    "        if month in month_list:\n",
    "            break\n",
    "        else:\n",
    "            print('please ensure your input is one of the examples!')   \n",
    "    while True:\n",
    "        day = input('Q3/3:which day do you want to analyst?(all, monday, tuesday, ... sunday)\\n')\n",
    "        if day in day_list:\n",
    "            break\n",
    "        else:\n",
    "            print('please ensure your input is one of the examples!')   \n",
    "  \n",
    "    print('-'*40)\n",
    "    return (city, month, day)\n",
    "\n",
    "def load_data(city, month, day):\n",
    "\n",
    "    df = pd.read_csv(CITY_DATA[city])\n",
    "    print('analyzing --- ', city)\n",
    "    df['Start Time'] = pd.to_datetime(df['Start Time'])\n",
    "    df['month'] = df['Start Time'].dt.month\n",
    "    df['day_of_week'] = df['Start Time'].dt.weekday_name\n",
    "\n",
    "    if month != 'all':\n",
    "        months = ['january', 'february', 'march', 'april', 'may', 'june']\n",
    "        month = months.index(month) + 1\n",
    "        df = df[df['month'] == month]\n",
    "    if day != 'all':\n",
    "        df = df[df['day_of_week'] == day.title()]\n",
    "\n",
    "    return df\n",
    "\n",
    "# 优化时间自定义函数\n",
    "\n",
    "def changeTime(allTime):\n",
    "\n",
    "    # 定义一天、一小时、一分钟的秒数\n",
    "    day = 24*60*60\n",
    "    hour = 60*60\n",
    "    min = 60\n",
    "    \n",
    "    # 小于60s时，利用 math.ceil 函数向上取整\n",
    "    if allTime <60:        \n",
    "        return (\"%d sec(s)\"%math.ceil(allTime))\n",
    "    \n",
    "    # 利用模作 divmod 函数，获取模和余数的元组，将为天，将余数继续进行函数 \n",
    "    elif  allTime > day:\n",
    "        days = divmod(allTime, day) \n",
    "        return (\"%d day(s), %s\"%(int(days[0]), changeTime(days[1])))\n",
    "    \n",
    "    elif allTime > hour:\n",
    "        hours = divmod(allTime, hour)\n",
    "        return ('%d hour(s), %s'%(int(hours[0]),changeTime(hours[1])))\n",
    "    else:\n",
    "        mins = divmod(allTime, min)\n",
    "        return (\"%d min(s), %d sec(s)\"%(int(mins[0]),math.ceil(mins[1])))\n",
    "    \n",
    "def trip_duration_stats(df):\n",
    "    \n",
    "    print('\\nCalculating Trip Duration...\\n')\n",
    "\n",
    "    total_duration = df['Trip Duration'].sum()\n",
    "    mean_duration = df['Trip Duration'].mean()\n",
    "\n",
    "    #利用format进行格式化输出，调用changeTime函数\n",
    "    print('The total travel time is around {} .'.format(changeTime(total_duration)))\n",
    "    print('The mean of travel time is around {} .'.format(changeTime(mean_duration)))\n",
    "    print('-'*40)\n",
    "\n",
    "def main():\n",
    "    while True:\n",
    "        city, month, day = get_filters()\n",
    "        df = load_data(city, month, day)\n",
    "\n",
    "        trip_duration_stats(df)\n",
    "        break\n",
    "\n",
    "if __name__ == \"__main__\":\n",
    "\tmain()"
   ]
  },
  {
   "cell_type": "code",
   "execution_count": null,
   "metadata": {},
   "outputs": [
    {
     "name": "stdout",
     "output_type": "stream",
     "text": [
      "Hello! Let's explore some US bikeshare data!\n",
      "\n",
      "[Please choose city number]\n",
      "1-chicago\n",
      "2-new york city\n",
      "3-washington\n",
      "Your choice is : 1\n",
      "\n",
      "[Please choose month number]\n",
      "0-All\n",
      "1-Jan\n",
      "2-Feb\n",
      "3-Mar\n",
      "4-Apr\n",
      "5-May\n",
      "6-Jun\n",
      "Your choice is : ttt\n",
      "[Hint] Oops! Please input a number of choice ! Try again.\n",
      "\n",
      "[Please choose month number]\n",
      "0-All\n",
      "1-Jan\n",
      "2-Feb\n",
      "3-Mar\n",
      "4-Apr\n",
      "5-May\n",
      "6-Jun\n",
      "Your choice is : 88\n",
      "[Hint] Oops! Please input a valid number from 0 to 6 ! Try again.\n",
      "\n",
      "[Please choose month number]\n",
      "0-All\n",
      "1-Jan\n",
      "2-Feb\n",
      "3-Mar\n",
      "4-Apr\n",
      "5-May\n",
      "6-Jun\n",
      "Your choice is : 1\n",
      "\n",
      "[Please choose month number]\n",
      "0-All\n",
      "1-Mon\n",
      "2-Tue\n",
      "3-Wed\n",
      "4-Thur\n",
      "5-Fri\n",
      "6-Sat\n",
      "7-Sun\n",
      "Your choice is : 1\n",
      "----------------------------------------\n",
      "Based on your choice, the data set is successful loaded !\n",
      "Data set parameters: City- chicago; Month- Jan; Day of week- Mon.\n",
      "----------------------------------------\n",
      "\n",
      "Calculating The Most Frequent Times of Travel...\n",
      "\n",
      "\n",
      "Most common month is : Jan\n",
      "\n",
      "\n",
      "Most common day is : Mon\n",
      "\n",
      "\n",
      "Most common start hour is : 17 h\n",
      "\n",
      "\n",
      "This took 0.10464 seconds.\n",
      "----------------------------------------\n",
      "\n",
      "Calculating The Most Popular Stations and Trip...\n",
      "\n",
      "\n",
      "Most commonly start station is : Clinton St & Washington Blvd\n",
      "\n",
      "\n",
      "Most commonly end station is : Clinton St & Washington Blvd\n",
      "\n",
      "\n",
      "Most frequent combination of start & end stations is : Michigan Ave & Lake St>Canal St & Madison St\n",
      "\n",
      "\n",
      "This took 0.03344 seconds.\n",
      "----------------------------------------\n",
      "\n",
      "Calculating Trip Duration...\n",
      "\n",
      "\n",
      "Total travel time : 2247180.000 seconds (≈ 37453 minutes)\n",
      "\n",
      "\n",
      "Mean travel time : 639.858 seconds (≈ 10 minutes)\n",
      "\n",
      "\n",
      "This took 0.00129 seconds.\n",
      "----------------------------------------\n",
      "\n",
      "Calculating User Stats...\n",
      "\n",
      "Subscriber    3408\n",
      "Customer       104\n",
      "Name: User Type, dtype: int64\n",
      "\n",
      "\n",
      "\n",
      "Male      2728\n",
      "Female     687\n",
      "Name: Gender, dtype: int64\n",
      "\n",
      "\n",
      "\n",
      "Earliest year of birth : 1934 \n",
      "Most recent year of birth : 1999 \n",
      "Most common year of birth : 0    \n",
      "\n",
      "This took 0.01359 seconds.\n",
      "----------------------------------------\n"
     ]
    }
   ],
   "source": [
    "# 调整交互方式\n",
    "\n",
    "import time\n",
    "import pandas as pd\n",
    "import numpy as np\n",
    "\n",
    "CITY_DATA = { 'chicago': 'chicago.csv',\n",
    "              'new york city': 'new_york_city.csv',\n",
    "              'washington': 'washington.csv' }\n",
    "\n",
    "months = ['All', 'Jan', 'Feb', 'Mar', 'Apr', 'May', 'Jun'] \n",
    "days = ['All', 'Mon', 'Tue', 'Wed', 'Thu', 'Fri', 'Sat', 'Sun']\n",
    "\n",
    "def get_filters():\n",
    "\n",
    "    print('Hello! Let\\'s explore some US bikeshare data!')\n",
    "    \n",
    "    while True:\n",
    "        input_city_number = input('\\n[Please choose city number]\\n1-chicago\\n2-new york city\\n3-washington\\nYour choice is : ')\n",
    "        if input_city_number == '1' :\n",
    "            city = 'chicago'\n",
    "            break\n",
    "        elif input_city_number == '2' :\n",
    "            city = 'new york city'\n",
    "            break\n",
    "        elif input_city_number == '3' :\n",
    "            city = 'washington'\n",
    "            break\n",
    "        else :\n",
    "            print('\\nPlease select a number from 1 to 3 !\\n')\n",
    "        \n",
    "    while True:\n",
    "        try :\n",
    "            input_month_number = int(input('\\n[Please choose month number]\\n0-All\\n1-Jan\\n2-Feb\\n3-Mar\\n4-Apr\\n5-May\\n6-Jun\\nYour choice is : '))\n",
    "            if int(input_month_number) <=6 and int(input_month_number) >=0 :\n",
    "                month = months[input_month_number]\n",
    "                break\n",
    "            else :\n",
    "                print(\"[Hint] Oops! Please input a valid number from 0 to 6 ! Try again.\")\n",
    "        except ValueError:\n",
    "            print(\"[Hint] Oops! Please input a number of choice ! Try again.\")\n",
    "        \n",
    "    while True:\n",
    "        try :\n",
    "            input_day_number = int(input('\\n[Please choose month number]\\n0-All\\n1-Mon\\n2-Tue\\n3-Wed\\n4-Thur\\n5-Fri\\n6-Sat\\n7-Sun\\nYour choice is : '))\n",
    "            if input_day_number <=6 and input_day_number >=0 :\n",
    "                day = days[input_day_number]\n",
    "                break\n",
    "            else :\n",
    "                print(\"[Hint] Oops! Please input a valid number from 0 to 7 ! Try again.\")\n",
    "        except ValueError:\n",
    "            print(\"[Hint] Oops! Please input a number of choice ! Try again.\")\n",
    "        \n",
    "    print('-'*40)\n",
    "    return city, month, day\n",
    "\n",
    "def load_data(city, month, day):\n",
    "\n",
    "    df = pd.read_csv(CITY_DATA[city])\n",
    "\n",
    "    df['Start Time'] = pd.to_datetime(df['Start Time'])\n",
    "    df['month'] = df['Start Time'].dt.month\n",
    "    df['day_of_week'] = df['Start Time'].dt.dayofweek\n",
    "\n",
    "    if month != 'All':\n",
    "        month_num = months.index(month)\n",
    "        df = df[df['month'] == month_num]\n",
    "\n",
    "    if day != 'All':\n",
    "        day_num = days.index(day) \n",
    "        df = df[df['day_of_week'] == (day_num-1)]\n",
    "        \n",
    "    print('Based on your choice, the data set is successful loaded !')\n",
    "    print('Data set parameters: City- %s; Month- %s; Day of week- %s.'%(city,month,day))\n",
    "    print('-'*40) \n",
    "\n",
    "    return df\n",
    "\n",
    "def time_stats(df):\n",
    "\n",
    "    print('\\nCalculating The Most Frequent Times of Travel...\\n')\n",
    "    start_time = time.time()\n",
    "\n",
    "    popular_month = df['month'].mode()[0]\n",
    "    print('\\nMost common month is : %s\\n'% months[popular_month])\n",
    "\n",
    "    popular_dayofweek = df['day_of_week'].mode()[0]\n",
    "    print('\\nMost common day is : %s\\n'%days[popular_dayofweek+1])\n",
    "\n",
    "    df['hour'] = df['Start Time'].dt.hour\n",
    "    popular_hour = df['hour'].mode()[0]\n",
    "    print('\\nMost common start hour is : %d h\\n'%popular_hour)\n",
    "    \n",
    "    print(\"\\nThis took %.5f seconds.\" % (time.time() - start_time))\n",
    "    print('-'*40)\n",
    "\n",
    "\n",
    "def station_stats(df):\n",
    "\n",
    "    print('\\nCalculating The Most Popular Stations and Trip...\\n')\n",
    "    start_time = time.time()\n",
    "\n",
    "    popular_start_station = df['Start Station'].mode()[0]\n",
    "    print('\\nMost commonly start station is : %s\\n'%popular_start_station)\n",
    "\n",
    "    popular_end_station = df['End Station'].mode()[0]\n",
    "    print('\\nMost commonly end station is : %s\\n'%popular_end_station)\n",
    "\n",
    "    df['comb_stations'] = df['Start Station'] + '>'+ df['End Station']\n",
    "    popular_comb_stations = df['comb_stations'].mode()[0]\n",
    "    print('\\nMost frequent combination of start & end stations is : %s\\n'%popular_comb_stations)\n",
    "\n",
    "    print(\"\\nThis took %.5f seconds.\" % (time.time() - start_time))\n",
    "    print('-'*40)\n",
    "\n",
    "def trip_duration_stats(df):\n",
    "\n",
    "    print('\\nCalculating Trip Duration...\\n')\n",
    "    start_time = time.time()\n",
    "\n",
    "    time_total = df['Trip Duration'].sum()\n",
    "    print('\\nTotal travel time : %.3f seconds (≈ %d minutes)\\n'%(time_total,time_total/60))\n",
    "\n",
    "    time_mean = df['Trip Duration'].mean()\n",
    "    print('\\nMean travel time : %.3f seconds (≈ %d minutes)\\n'%(time_mean,time_mean/60))\n",
    "\n",
    "    print(\"\\nThis took %.5f seconds.\" % (time.time() - start_time))\n",
    "    print('-'*40)\n",
    "\n",
    "\n",
    "def user_stats(df,city):\n",
    "    \n",
    "    print('\\nCalculating User Stats...\\n')\n",
    "    \n",
    "    if city == 'washington' :\n",
    "        print('\\n[Hint] Sorry, No user data in washington ! Please try another city .\\n')\n",
    "    else :\n",
    "        start_time = time.time()\n",
    "        print(df['User Type'].value_counts())\n",
    "        print('\\n\\n')\n",
    "        print(df['Gender'].value_counts())\n",
    "        \n",
    "        year_min = df['Birth Year'].min()\n",
    "        year_max = df['Birth Year'].max()\n",
    "        year_common = df['Birth Year'].mode()\n",
    "        print('\\n\\n')\n",
    "        print('Earliest year of birth : %s '% str(year_min)[0:4])\n",
    "        print('Most recent year of birth : %s '% str(year_max)[0:4])\n",
    "        print('Most common year of birth : %s '% str(year_common)[0:4])\n",
    "\n",
    "        print(\"\\nThis took %.5f seconds.\" % (time.time() - start_time))\n",
    "        print('-'*40)\n",
    "\n",
    "def main():\n",
    "    while True:\n",
    "        city, month, day = get_filters()\n",
    "        df = load_data(city, month, day)\n",
    "\n",
    "        time_stats(df)\n",
    "        station_stats(df)\n",
    "        trip_duration_stats(df)\n",
    "        user_stats(df,city)\n",
    "\n",
    "        restart = input('\\nWould you like to restart? Enter yes or no.\\n')\n",
    "        if restart.lower() != 'yes':\n",
    "            break\n",
    "\n",
    "if __name__ == \"__main__\":\n",
    "\tmain()\n"
   ]
  },
  {
   "cell_type": "code",
   "execution_count": 118,
   "metadata": {},
   "outputs": [
    {
     "name": "stdout",
     "output_type": "stream",
     "text": [
      "Hello! Let's explore some US bikeshare data!\n",
      "which city do you want to choose, chicago,washington,new york city?\n",
      "chicago\n",
      "which month do you want to according to? such as all , january , february ,..., june\n",
      "all\n",
      "which day do you want to according to? such as all, monday, tuesday, ... sunday\n",
      "all\n",
      "----------------------------------------\n",
      "\n",
      "Calculating The Most Frequent Times of Travel...\n",
      "\n",
      "Most Frequent Start Month: 6\n",
      "Most Frequent Start Hour: Tuesday\n",
      "Most Frequent Start Hour: 17\n",
      "\n",
      "This took 0.16075396537780762 seconds.\n",
      "----------------------------------------\n",
      "\n",
      "Calculating The Most Popular Stations and Trip...\n",
      "\n",
      "The most commonly used start station is Streeter Dr & Grand Ave\n",
      "The most commonly used end station is Streeter Dr & Grand Ave\n",
      "The most frequent combination of start station and end station trip is Lake Shore Dr & Monroe St to Streeter Dr & Grand Ave\n",
      "\n",
      "This took 0.3522682189941406 seconds.\n",
      "----------------------------------------\n",
      "\n",
      "Calculating Trip Duration...\n",
      "\n",
      "Total travel time is 280871787\n",
      "Mean travel time is 936.23929\n",
      "\n",
      "This took 0.0056171417236328125 seconds.\n",
      "----------------------------------------\n",
      "\n",
      "Calculating User Stats...\n",
      "\n",
      "Subscriber    238889\n",
      "Customer       61110\n",
      "Dependent          1\n",
      "Name: User Type, dtype: int64\n",
      "Male      181190\n",
      "Female     57758\n",
      "Name: Gender, dtype: int64\n",
      "user's birth earliest is 1899.0.user's birth most recent is 2016.0.user's birth most common is 1989.0.\n",
      "\n",
      "This took 0.07995796203613281 seconds.\n",
      "----------------------------------------\n",
      "\n",
      "Would you like to restart? Enter yes or no.\n",
      "no\n"
     ]
    }
   ],
   "source": [
    "# 优化用户交互自定义函数\n",
    "\n",
    "import time\n",
    "import pandas as pd\n",
    "import numpy as np\n",
    "\n",
    "CITY_DATA = { 'chicago': 'chicago.csv',\n",
    "              'new york city': 'new_york_city.csv',\n",
    "              'washington': 'washington.csv' }\n",
    "\n",
    "def input_mod(input_print, error_print, enterable_list, get_value):\n",
    "    while True:\n",
    "        ret = input(input_print)\n",
    "        ret = get_value(ret) \n",
    "        if ret in enterable_list:\n",
    "            return ret\n",
    "        else:\n",
    "            print(error_print)\n",
    "            \n",
    "def get_filters():\n",
    "\n",
    "    print('Hello! Let\\'s explore some US bikeshare data!')\n",
    "    \n",
    "    city = input_mod('which city do you want to choose, chicago,washington,new york city?\\n',\n",
    "                    'please write certain city.',\n",
    "                    CITY_DATA,lambda x: str.lower(x))\n",
    "    \n",
    "    months = ['all', 'january', 'february', 'march', 'april', 'may', 'june']\n",
    "    month = input_mod('which month do you want to according to? such as all , january , february ,..., june\\n',\n",
    "                    'please write certain month.',\n",
    "                    months,lambda x: str.lower(x))\n",
    " \n",
    "    days = ['all', 'monday', 'tuesday','wednesday', 'thursday', 'friday', 'saturday', 'sunday']\n",
    "    day = input_mod('which day do you want to according to? such as all, monday, tuesday, ... sunday\\n',\n",
    "                    'please write certain day name.',\n",
    "                    days,lambda x: str.lower(x))\n",
    "\n",
    "    print('-'*40)\n",
    "    return city, month, day\n",
    "\n",
    "def input_data(city):\n",
    "\n",
    "    df = pd.read_csv(CITY_DATA[city])\n",
    "\n",
    "    df['Start Time'] = pd.to_datetime(df['Start Time'])\n",
    "    df['month'] = df['Start Time'].dt.month\n",
    "    df['day_of_week'] = df['Start Time'].dt.weekday_name\n",
    "    df['hour'] = df['Start Time'].dt.hour\n",
    "    \n",
    "    return df\n",
    "\n",
    "def load_data(city, month, day):\n",
    "\n",
    "    df = input_data(city)\n",
    "\n",
    "    if month != 'all':\n",
    "        months = ['january', 'february', 'march', 'april', 'may', 'june']\n",
    "        month = months.index(month) + 1\n",
    "        df = df[df['month'] == month]\n",
    "\n",
    "    if day != 'all':\n",
    "        df = df[df['day_of_week'] == day.title()]\n",
    "\n",
    "    return df\n",
    "\n",
    "def time_stats(df):\n",
    "\n",
    "    print('\\nCalculating The Most Frequent Times of Travel...\\n')\n",
    "    start_time = time.time()\n",
    "   \n",
    "    popular_month = df['month'].mode()[0]\n",
    "    print('Most Frequent Start Month:', popular_month)\n",
    "    \n",
    "    df['day_of_week'] = df['Start Time'].dt.weekday_name\n",
    "    popular_day = df['day_of_week'].mode()[0]\n",
    "    print('Most Frequent Start Hour:', popular_day)\n",
    "\n",
    "    popular_hour = df['hour'].mode()[0]\n",
    "    print('Most Frequent Start Hour:', popular_hour)\n",
    "\n",
    "    print(\"\\nThis took %s seconds.\" % (time.time() - start_time))\n",
    "    print('-'*40)\n",
    "\n",
    "\n",
    "def station_stats(df):\n",
    "\n",
    "    print('\\nCalculating The Most Popular Stations and Trip...\\n')\n",
    "    start_time = time.time()\n",
    "\n",
    "    start_station = df['Start Station'].mode()[0]\n",
    "    print('The most commonly used start station is %s'% start_station)\n",
    "\n",
    "    end_station = df['End Station'].mode()[0]\n",
    "    print('The most commonly used end station is %s'% end_station)\n",
    "    \n",
    "    top = df.groupby(['Start Station', 'End Station']).size().idxmax()\n",
    "    print(\"The most frequent combination of start station and end station trip is {} to {}\".format(top[0], top[1]))\n",
    "\n",
    "    print(\"\\nThis took %s seconds.\" % (time.time() - start_time))\n",
    "    print('-'*40)\n",
    "\n",
    "def trip_duration_stats(df):\n",
    "\n",
    "    print('\\nCalculating Trip Duration...\\n')\n",
    "    start_time = time.time()\n",
    "\n",
    "    total_time = df['Trip Duration'].sum()\n",
    "    print('Total travel time is %s' % total_time)\n",
    "\n",
    "    mean_time = df['Trip Duration'].mean()\n",
    "    print('Mean travel time is %s' % mean_time)\n",
    "\n",
    "    print(\"\\nThis took %s seconds.\" % (time.time() - start_time))\n",
    "    print('-'*40)\n",
    "\n",
    "def user_stats(df):\n",
    "\n",
    "    print('\\nCalculating User Stats...\\n')\n",
    "    start_time = time.time()\n",
    "\n",
    "    try:\n",
    "               user_types = df['User Type'].value_counts()\n",
    "               print(user_types)\n",
    "               \n",
    "               user_genders = df['Gender'].value_counts()\n",
    "               print(user_genders)\n",
    "               \n",
    "               birth = df['Birth Year']\n",
    "               earliest = birth.min()\n",
    "               recent = birth.max()\n",
    "               common = birth.mode()[0]\n",
    "               print(\"user's birth earliest is %s.user's birth most recent is %s.user's birth most common is %s.\" %(earliest,recent,common))\n",
    "    except:\n",
    "               print(\"there is not find date list or other wrong\")\n",
    "\n",
    "    \n",
    "    print(\"\\nThis took %s seconds.\" % (time.time() - start_time))\n",
    "    print('-'*40)\n",
    "\n",
    "\n",
    "def main():\n",
    "    while True:\n",
    "        city, month, day = get_filters()\n",
    "        df = load_data(city, month, day)\n",
    "\n",
    "        time_stats(df)\n",
    "        station_stats(df)\n",
    "        trip_duration_stats(df)\n",
    "        user_stats(df)\n",
    "\n",
    "        restart = input('\\nWould you like to restart? Enter yes or no.\\n')\n",
    "        if restart.lower() != 'yes':\n",
    "            break\n",
    "\n",
    "\n",
    "if __name__ == \"__main__\":\n",
    "\tmain()\n"
   ]
  },
  {
   "cell_type": "markdown",
   "metadata": {},
   "source": [
    "## 常见问题"
   ]
  },
  {
   "cell_type": "code",
   "execution_count": 2,
   "metadata": {},
   "outputs": [
    {
     "name": "stdout",
     "output_type": "stream",
     "text": [
      "0\n",
      "1\n",
      "2\n",
      "3\n",
      "4\n",
      "5\n"
     ]
    }
   ],
   "source": [
    "for x in range(6):\n",
    "    print(x)"
   ]
  },
  {
   "cell_type": "code",
   "execution_count": 3,
   "metadata": {},
   "outputs": [
    {
     "data": {
      "text/plain": [
       "[0, 1, 4, 9, 16, 25]"
      ]
     },
     "execution_count": 3,
     "metadata": {},
     "output_type": "execute_result"
    }
   ],
   "source": [
    "[ x ** 2 for x in range(6)]"
   ]
  },
  {
   "cell_type": "code",
   "execution_count": 120,
   "metadata": {},
   "outputs": [
    {
     "name": "stdout",
     "output_type": "stream",
     "text": [
      "<generator object <genexpr> at 0x1070fbbf8>\n"
     ]
    }
   ],
   "source": [
    "test = (x ** 2 for x in range(6))\n",
    "print(test)"
   ]
  },
  {
   "cell_type": "code",
   "execution_count": 121,
   "metadata": {},
   "outputs": [
    {
     "data": {
      "text/plain": [
       "[0, 1, 4, 9, 16, 25]"
      ]
     },
     "execution_count": 121,
     "metadata": {},
     "output_type": "execute_result"
    }
   ],
   "source": [
    "# 运行两次看看效果\n",
    "\n",
    "list(test)"
   ]
  },
  {
   "cell_type": "code",
   "execution_count": null,
   "metadata": {},
   "outputs": [],
   "source": []
  },
  {
   "cell_type": "markdown",
   "metadata": {},
   "source": [
    ">- 数据分析入门章节时间安排"
   ]
  },
  {
   "cell_type": "markdown",
   "metadata": {},
   "source": [
    "`拓展部分`"
   ]
  },
  {
   "cell_type": "code",
   "execution_count": 4,
   "metadata": {},
   "outputs": [],
   "source": [
    "import pandas as pd"
   ]
  },
  {
   "cell_type": "code",
   "execution_count": 5,
   "metadata": {},
   "outputs": [
    {
     "data": {
      "text/plain": [
       "Index(['Unnamed: 0', 'Start Time', 'End Time', 'Trip Duration',\n",
       "       'Start Station', 'End Station', 'User Type', 'Gender', 'Birth Year'],\n",
       "      dtype='object')"
      ]
     },
     "execution_count": 5,
     "metadata": {},
     "output_type": "execute_result"
    }
   ],
   "source": [
    "# 列名\n",
    "\n",
    "df = pd.read_csv('chicago.csv')\n",
    "df.columns"
   ]
  },
  {
   "cell_type": "code",
   "execution_count": 6,
   "metadata": {},
   "outputs": [
    {
     "data": {
      "text/html": [
       "<div>\n",
       "<style scoped>\n",
       "    .dataframe tbody tr th:only-of-type {\n",
       "        vertical-align: middle;\n",
       "    }\n",
       "\n",
       "    .dataframe tbody tr th {\n",
       "        vertical-align: top;\n",
       "    }\n",
       "\n",
       "    .dataframe thead th {\n",
       "        text-align: right;\n",
       "    }\n",
       "</style>\n",
       "<table border=\"1\" class=\"dataframe\">\n",
       "  <thead>\n",
       "    <tr style=\"text-align: right;\">\n",
       "      <th></th>\n",
       "      <th>Unnamed: 0</th>\n",
       "      <th>Start Time</th>\n",
       "      <th>End Time</th>\n",
       "      <th>Trip Duration</th>\n",
       "      <th>Start Station</th>\n",
       "      <th>End Station</th>\n",
       "      <th>User Type</th>\n",
       "      <th>Gender</th>\n",
       "      <th>Birth Year</th>\n",
       "      <th>new_column_01</th>\n",
       "    </tr>\n",
       "  </thead>\n",
       "  <tbody>\n",
       "    <tr>\n",
       "      <th>0</th>\n",
       "      <td>1423854</td>\n",
       "      <td>2017-06-23 15:09:32</td>\n",
       "      <td>2017-06-23 15:14:53</td>\n",
       "      <td>321</td>\n",
       "      <td>Wood St &amp; Hubbard St</td>\n",
       "      <td>Damen Ave &amp; Chicago Ave</td>\n",
       "      <td>Subscriber</td>\n",
       "      <td>Male</td>\n",
       "      <td>1992.0</td>\n",
       "      <td>手机</td>\n",
       "    </tr>\n",
       "    <tr>\n",
       "      <th>1</th>\n",
       "      <td>955915</td>\n",
       "      <td>2017-05-25 18:19:03</td>\n",
       "      <td>2017-05-25 18:45:53</td>\n",
       "      <td>1610</td>\n",
       "      <td>Theater on the Lake</td>\n",
       "      <td>Sheffield Ave &amp; Waveland Ave</td>\n",
       "      <td>Subscriber</td>\n",
       "      <td>Female</td>\n",
       "      <td>1992.0</td>\n",
       "      <td>手机</td>\n",
       "    </tr>\n",
       "    <tr>\n",
       "      <th>2</th>\n",
       "      <td>9031</td>\n",
       "      <td>2017-01-04 08:27:49</td>\n",
       "      <td>2017-01-04 08:34:45</td>\n",
       "      <td>416</td>\n",
       "      <td>May St &amp; Taylor St</td>\n",
       "      <td>Wood St &amp; Taylor St</td>\n",
       "      <td>Subscriber</td>\n",
       "      <td>Male</td>\n",
       "      <td>1981.0</td>\n",
       "      <td>手机</td>\n",
       "    </tr>\n",
       "    <tr>\n",
       "      <th>3</th>\n",
       "      <td>304487</td>\n",
       "      <td>2017-03-06 13:49:38</td>\n",
       "      <td>2017-03-06 13:55:28</td>\n",
       "      <td>350</td>\n",
       "      <td>Christiana Ave &amp; Lawrence Ave</td>\n",
       "      <td>St. Louis Ave &amp; Balmoral Ave</td>\n",
       "      <td>Subscriber</td>\n",
       "      <td>Male</td>\n",
       "      <td>1986.0</td>\n",
       "      <td>手机</td>\n",
       "    </tr>\n",
       "    <tr>\n",
       "      <th>4</th>\n",
       "      <td>45207</td>\n",
       "      <td>2017-01-17 14:53:07</td>\n",
       "      <td>2017-01-17 15:02:01</td>\n",
       "      <td>534</td>\n",
       "      <td>Clark St &amp; Randolph St</td>\n",
       "      <td>Desplaines St &amp; Jackson Blvd</td>\n",
       "      <td>Subscriber</td>\n",
       "      <td>Male</td>\n",
       "      <td>1975.0</td>\n",
       "      <td>手机</td>\n",
       "    </tr>\n",
       "  </tbody>\n",
       "</table>\n",
       "</div>"
      ],
      "text/plain": [
       "   Unnamed: 0           Start Time             End Time  Trip Duration  \\\n",
       "0     1423854  2017-06-23 15:09:32  2017-06-23 15:14:53            321   \n",
       "1      955915  2017-05-25 18:19:03  2017-05-25 18:45:53           1610   \n",
       "2        9031  2017-01-04 08:27:49  2017-01-04 08:34:45            416   \n",
       "3      304487  2017-03-06 13:49:38  2017-03-06 13:55:28            350   \n",
       "4       45207  2017-01-17 14:53:07  2017-01-17 15:02:01            534   \n",
       "\n",
       "                   Start Station                   End Station   User Type  \\\n",
       "0           Wood St & Hubbard St       Damen Ave & Chicago Ave  Subscriber   \n",
       "1            Theater on the Lake  Sheffield Ave & Waveland Ave  Subscriber   \n",
       "2             May St & Taylor St           Wood St & Taylor St  Subscriber   \n",
       "3  Christiana Ave & Lawrence Ave  St. Louis Ave & Balmoral Ave  Subscriber   \n",
       "4         Clark St & Randolph St  Desplaines St & Jackson Blvd  Subscriber   \n",
       "\n",
       "   Gender  Birth Year new_column_01  \n",
       "0    Male      1992.0            手机  \n",
       "1  Female      1992.0            手机  \n",
       "2    Male      1981.0            手机  \n",
       "3    Male      1986.0            手机  \n",
       "4    Male      1975.0            手机  "
      ]
     },
     "execution_count": 6,
     "metadata": {},
     "output_type": "execute_result"
    }
   ],
   "source": [
    "df['new_column_01'] = '手机'\n",
    "df.head()"
   ]
  },
  {
   "cell_type": "markdown",
   "metadata": {},
   "source": [
    "> ### 操控数据小练习"
   ]
  },
  {
   "cell_type": "code",
   "execution_count": 142,
   "metadata": {},
   "outputs": [],
   "source": [
    "# 新建数据列，把前万分之一行，偶数行加上 8848钛金手机，奇数行加上 iPhone X\n",
    "\n",
    "# 思路 -> 测试 -> 报错 -> 调整"
   ]
  },
  {
   "cell_type": "markdown",
   "metadata": {},
   "source": [
    "> 可能涉及\n",
    "- [pandas获取行数](https://www.baidu.com/s?ie=utf-8&f=8&rsv_bp=1&tn=baidu&wd=pandas%20%E8%8E%B7%E5%8F%96%E8%A1%8C%E6%95%B0&oq=pandas%2520%25E8%258E%25B7%25E5%258F%2596%25E8%25A1%258C%25E6%2595%25B0&rsv_pq=c55fb9c70001f706&rsv_t=d55csrup3DdyHMigg8FpZrOP7COOKwVVAYMeLlYXHFnPVGAiVns23PKc%2BjM&rqlang=cn&rsv_enter=0&rsv_sug4=3319)\n",
    "- [python判断奇数偶数](https://www.baidu.com/s?ie=utf-8&f=8&rsv_bp=1&tn=baidu&wd=python%E5%88%A4%E6%96%AD%E5%A5%87%E6%95%B0%E5%81%B6%E6%95%B0&oq=python%25E5%2588%25A4%25E6%2596%25AD%25E5%25A5%2587%25E6%2595%25B0%25E5%2581%25B6%25E6%2595%25B0&rsv_pq=82fb3cfb0002df15&rsv_t=7f1bQnLU9htkU9CMA%2BYkTd063BXUPHtIknhFxPLsdjx9Ff%2FNVBJngFZBTRk&rqlang=cn&rsv_enter=0)\n",
    "- 新建列\n",
    "- 浮点数改为整形\n",
    "- 数据索引"
   ]
  },
  {
   "cell_type": "markdown",
   "metadata": {},
   "source": [
    "`演示过程 ... `"
   ]
  },
  {
   "cell_type": "code",
   "execution_count": null,
   "metadata": {},
   "outputs": [],
   "source": []
  },
  {
   "cell_type": "code",
   "execution_count": null,
   "metadata": {},
   "outputs": [],
   "source": []
  },
  {
   "cell_type": "code",
   "execution_count": null,
   "metadata": {},
   "outputs": [],
   "source": []
  },
  {
   "cell_type": "markdown",
   "metadata": {},
   "source": [
    "- ### 先不要扯啦，我是有底线滴，下面👇是答案，先自己想想咯 ... "
   ]
  },
  {
   "cell_type": "code",
   "execution_count": 126,
   "metadata": {},
   "outputs": [
    {
     "data": {
      "text/plain": [
       "\"\\ndf['new_column_02'] = ''\\n\\nfor i in range(int(len(df)/10000)):\\n    if (i%2) == 0:\\n        df['new_column_02'][i] = '8848钛金手机'\\n    else:\\n        df['new_column_02'][i] = 'iPhone X'\\n        \\ndf[int(len(df)/10000)-4:int(len(df)/10000)+1]\\n\""
      ]
     },
     "execution_count": 126,
     "metadata": {},
     "output_type": "execute_result"
    }
   ],
   "source": [
    "'''\n",
    "df['new_column_02'] = ''\n",
    "\n",
    "for i in range(int(len(df)/10000)):\n",
    "    if (i%2) == 0:\n",
    "        df['new_column_02'][i] = '8848钛金手机'\n",
    "    else:\n",
    "        df['new_column_02'][i] = 'iPhone X'\n",
    "        \n",
    "df[int(len(df)/10000)-4:int(len(df)/10000)+1]\n",
    "'''"
   ]
  },
  {
   "cell_type": "code",
   "execution_count": 127,
   "metadata": {},
   "outputs": [],
   "source": [
    "# df = df.drop(['new_column_01', 'new_column_02'], axis=1)\n",
    "# df.head()"
   ]
  },
  {
   "cell_type": "code",
   "execution_count": 128,
   "metadata": {},
   "outputs": [
    {
     "data": {
      "text/html": [
       "<div>\n",
       "<style scoped>\n",
       "    .dataframe tbody tr th:only-of-type {\n",
       "        vertical-align: middle;\n",
       "    }\n",
       "\n",
       "    .dataframe tbody tr th {\n",
       "        vertical-align: top;\n",
       "    }\n",
       "\n",
       "    .dataframe thead th {\n",
       "        text-align: right;\n",
       "    }\n",
       "</style>\n",
       "<table border=\"1\" class=\"dataframe\">\n",
       "  <thead>\n",
       "    <tr style=\"text-align: right;\">\n",
       "      <th></th>\n",
       "      <th>Start Time</th>\n",
       "      <th>End Time</th>\n",
       "    </tr>\n",
       "  </thead>\n",
       "  <tbody>\n",
       "    <tr>\n",
       "      <th>0</th>\n",
       "      <td>2017-06-23 15:09:32</td>\n",
       "      <td>2017-06-23 15:14:53</td>\n",
       "    </tr>\n",
       "    <tr>\n",
       "      <th>1</th>\n",
       "      <td>2017-05-25 18:19:03</td>\n",
       "      <td>2017-05-25 18:45:53</td>\n",
       "    </tr>\n",
       "    <tr>\n",
       "      <th>2</th>\n",
       "      <td>2017-01-04 08:27:49</td>\n",
       "      <td>2017-01-04 08:34:45</td>\n",
       "    </tr>\n",
       "    <tr>\n",
       "      <th>3</th>\n",
       "      <td>2017-03-06 13:49:38</td>\n",
       "      <td>2017-03-06 13:55:28</td>\n",
       "    </tr>\n",
       "    <tr>\n",
       "      <th>4</th>\n",
       "      <td>2017-01-17 14:53:07</td>\n",
       "      <td>2017-01-17 15:02:01</td>\n",
       "    </tr>\n",
       "  </tbody>\n",
       "</table>\n",
       "</div>"
      ],
      "text/plain": [
       "            Start Time             End Time\n",
       "0  2017-06-23 15:09:32  2017-06-23 15:14:53\n",
       "1  2017-05-25 18:19:03  2017-05-25 18:45:53\n",
       "2  2017-01-04 08:27:49  2017-01-04 08:34:45\n",
       "3  2017-03-06 13:49:38  2017-03-06 13:55:28\n",
       "4  2017-01-17 14:53:07  2017-01-17 15:02:01"
      ]
     },
     "execution_count": 128,
     "metadata": {},
     "output_type": "execute_result"
    }
   ],
   "source": [
    "# 选取前5行'Start Time', 'End Time'两列\n",
    "\n",
    "df[:5][['Start Time', 'End Time']]"
   ]
  },
  {
   "cell_type": "code",
   "execution_count": 129,
   "metadata": {},
   "outputs": [
    {
     "data": {
      "text/html": [
       "<div>\n",
       "<style scoped>\n",
       "    .dataframe tbody tr th:only-of-type {\n",
       "        vertical-align: middle;\n",
       "    }\n",
       "\n",
       "    .dataframe tbody tr th {\n",
       "        vertical-align: top;\n",
       "    }\n",
       "\n",
       "    .dataframe thead th {\n",
       "        text-align: right;\n",
       "    }\n",
       "</style>\n",
       "<table border=\"1\" class=\"dataframe\">\n",
       "  <thead>\n",
       "    <tr style=\"text-align: right;\">\n",
       "      <th></th>\n",
       "      <th>Start Time</th>\n",
       "      <th>End Time</th>\n",
       "    </tr>\n",
       "  </thead>\n",
       "  <tbody>\n",
       "    <tr>\n",
       "      <th>0</th>\n",
       "      <td>2017-06-23 15:09:32</td>\n",
       "      <td>2017-06-23 15:14:53</td>\n",
       "    </tr>\n",
       "    <tr>\n",
       "      <th>1</th>\n",
       "      <td>2017-05-25 18:19:03</td>\n",
       "      <td>2017-05-25 18:45:53</td>\n",
       "    </tr>\n",
       "    <tr>\n",
       "      <th>2</th>\n",
       "      <td>2017-01-04 08:27:49</td>\n",
       "      <td>2017-01-04 08:34:45</td>\n",
       "    </tr>\n",
       "    <tr>\n",
       "      <th>3</th>\n",
       "      <td>2017-03-06 13:49:38</td>\n",
       "      <td>2017-03-06 13:55:28</td>\n",
       "    </tr>\n",
       "    <tr>\n",
       "      <th>4</th>\n",
       "      <td>2017-01-17 14:53:07</td>\n",
       "      <td>2017-01-17 15:02:01</td>\n",
       "    </tr>\n",
       "    <tr>\n",
       "      <th>5</th>\n",
       "      <td>2017-06-26 09:01:20</td>\n",
       "      <td>2017-06-26 09:11:06</td>\n",
       "    </tr>\n",
       "  </tbody>\n",
       "</table>\n",
       "</div>"
      ],
      "text/plain": [
       "            Start Time             End Time\n",
       "0  2017-06-23 15:09:32  2017-06-23 15:14:53\n",
       "1  2017-05-25 18:19:03  2017-05-25 18:45:53\n",
       "2  2017-01-04 08:27:49  2017-01-04 08:34:45\n",
       "3  2017-03-06 13:49:38  2017-03-06 13:55:28\n",
       "4  2017-01-17 14:53:07  2017-01-17 15:02:01\n",
       "5  2017-06-26 09:01:20  2017-06-26 09:11:06"
      ]
     },
     "execution_count": 129,
     "metadata": {},
     "output_type": "execute_result"
    }
   ],
   "source": [
    "# 语法区别\n",
    "\n",
    "df.loc[:5,['Start Time', 'End Time']]"
   ]
  },
  {
   "cell_type": "code",
   "execution_count": 130,
   "metadata": {},
   "outputs": [
    {
     "data": {
      "text/html": [
       "<div>\n",
       "<style scoped>\n",
       "    .dataframe tbody tr th:only-of-type {\n",
       "        vertical-align: middle;\n",
       "    }\n",
       "\n",
       "    .dataframe tbody tr th {\n",
       "        vertical-align: top;\n",
       "    }\n",
       "\n",
       "    .dataframe thead th {\n",
       "        text-align: right;\n",
       "    }\n",
       "</style>\n",
       "<table border=\"1\" class=\"dataframe\">\n",
       "  <thead>\n",
       "    <tr style=\"text-align: right;\">\n",
       "      <th></th>\n",
       "      <th>Start Time</th>\n",
       "      <th>End Time</th>\n",
       "    </tr>\n",
       "  </thead>\n",
       "  <tbody>\n",
       "    <tr>\n",
       "      <th>0</th>\n",
       "      <td>2017-06-23 15:09:32</td>\n",
       "      <td>2017-06-23 15:14:53</td>\n",
       "    </tr>\n",
       "    <tr>\n",
       "      <th>1</th>\n",
       "      <td>2017-05-25 18:19:03</td>\n",
       "      <td>2017-05-25 18:45:53</td>\n",
       "    </tr>\n",
       "    <tr>\n",
       "      <th>2</th>\n",
       "      <td>2017-01-04 08:27:49</td>\n",
       "      <td>2017-01-04 08:34:45</td>\n",
       "    </tr>\n",
       "    <tr>\n",
       "      <th>3</th>\n",
       "      <td>2017-03-06 13:49:38</td>\n",
       "      <td>2017-03-06 13:55:28</td>\n",
       "    </tr>\n",
       "    <tr>\n",
       "      <th>4</th>\n",
       "      <td>2017-01-17 14:53:07</td>\n",
       "      <td>2017-01-17 15:02:01</td>\n",
       "    </tr>\n",
       "  </tbody>\n",
       "</table>\n",
       "</div>"
      ],
      "text/plain": [
       "            Start Time             End Time\n",
       "0  2017-06-23 15:09:32  2017-06-23 15:14:53\n",
       "1  2017-05-25 18:19:03  2017-05-25 18:45:53\n",
       "2  2017-01-04 08:27:49  2017-01-04 08:34:45\n",
       "3  2017-03-06 13:49:38  2017-03-06 13:55:28\n",
       "4  2017-01-17 14:53:07  2017-01-17 15:02:01"
      ]
     },
     "execution_count": 130,
     "metadata": {},
     "output_type": "execute_result"
    }
   ],
   "source": [
    "# 语法区别\n",
    "\n",
    "df.iloc[:5,[1,2]]"
   ]
  },
  {
   "cell_type": "code",
   "execution_count": 131,
   "metadata": {},
   "outputs": [
    {
     "name": "stdout",
     "output_type": "stream",
     "text": [
      "<class 'pandas.core.frame.DataFrame'>\n",
      "RangeIndex: 300000 entries, 0 to 299999\n",
      "Data columns (total 10 columns):\n",
      "Unnamed: 0       300000 non-null int64\n",
      "Start Time       300000 non-null object\n",
      "End Time         300000 non-null object\n",
      "Trip Duration    300000 non-null int64\n",
      "Start Station    300000 non-null object\n",
      "End Station      300000 non-null object\n",
      "User Type        300000 non-null object\n",
      "Gender           238948 non-null object\n",
      "Birth Year       238981 non-null float64\n",
      "new_column_01    300000 non-null object\n",
      "dtypes: float64(1), int64(2), object(7)\n",
      "memory usage: 22.9+ MB\n"
     ]
    }
   ],
   "source": [
    "df.info()"
   ]
  },
  {
   "cell_type": "code",
   "execution_count": 132,
   "metadata": {},
   "outputs": [
    {
     "name": "stdout",
     "output_type": "stream",
     "text": [
      "<class 'pandas.core.frame.DataFrame'>\n",
      "Int64Index: 238948 entries, 0 to 299999\n",
      "Data columns (total 10 columns):\n",
      "Unnamed: 0       238948 non-null int64\n",
      "Start Time       238948 non-null object\n",
      "End Time         238948 non-null object\n",
      "Trip Duration    238948 non-null int64\n",
      "Start Station    238948 non-null object\n",
      "End Station      238948 non-null object\n",
      "User Type        238948 non-null object\n",
      "Gender           238948 non-null object\n",
      "Birth Year       238948 non-null float64\n",
      "new_column_01    238948 non-null object\n",
      "dtypes: float64(1), int64(2), object(7)\n",
      "memory usage: 20.1+ MB\n"
     ]
    }
   ],
   "source": [
    "df = df.dropna()\n",
    "df.info()"
   ]
  },
  {
   "cell_type": "markdown",
   "metadata": {},
   "source": [
    "> ## 可视化预告，现在只是预习，下个章节会系统学习可视化"
   ]
  },
  {
   "cell_type": "code",
   "execution_count": 133,
   "metadata": {},
   "outputs": [
    {
     "data": {
      "image/png": "[encoded data removed]",
      "text/plain": [
       "<Figure size 432x288 with 1 Axes>"
      ]
     },
     "metadata": {
      "needs_background": "light"
     },
     "output_type": "display_data"
    }
   ],
   "source": [
    "# User Type 可视化\n",
    "\n",
    "df[['User Type', 'Trip Duration']].groupby('User Type').mean().sort_values(by = 'Trip Duration').plot(kind = 'bar');"
   ]
  },
  {
   "cell_type": "code",
   "execution_count": 134,
   "metadata": {},
   "outputs": [],
   "source": [
    "df['Start Time'] = pd.to_datetime(df['Start Time'])"
   ]
  },
  {
   "cell_type": "code",
   "execution_count": 135,
   "metadata": {},
   "outputs": [],
   "source": [
    "df['hour'] = df['Start Time'].dt.hour"
   ]
  },
  {
   "cell_type": "code",
   "execution_count": 136,
   "metadata": {},
   "outputs": [
    {
     "data": {
      "text/plain": [
       "17    30613\n",
       "8     23037\n",
       "16    22616\n",
       "18    19489\n",
       "7     17898\n",
       "Name: hour, dtype: int64"
      ]
     },
     "execution_count": 136,
     "metadata": {},
     "output_type": "execute_result"
    }
   ],
   "source": [
    "df.hour.value_counts()[:5]"
   ]
  },
  {
   "cell_type": "code",
   "execution_count": 137,
   "metadata": {},
   "outputs": [
    {
     "data": {
      "text/plain": [
       "Int64Index([17, 8, 16, 18, 7], dtype='int64')"
      ]
     },
     "execution_count": 137,
     "metadata": {},
     "output_type": "execute_result"
    }
   ],
   "source": [
    "df.hour.value_counts()[:5].index"
   ]
  },
  {
   "cell_type": "code",
   "execution_count": 138,
   "metadata": {},
   "outputs": [
    {
     "data": {
      "text/plain": [
       "User Type   Gender\n",
       "Customer    Male          82\n",
       "            Female         9\n",
       "Dependent   Male           1\n",
       "Subscriber  Male      181107\n",
       "            Female     57749\n",
       "Name: Gender, dtype: int64"
      ]
     },
     "execution_count": 138,
     "metadata": {},
     "output_type": "execute_result"
    }
   ],
   "source": [
    "df[['User Type', 'Gender']].groupby(['User Type'])['Gender'].value_counts()"
   ]
  },
  {
   "cell_type": "code",
   "execution_count": 139,
   "metadata": {},
   "outputs": [
    {
     "data": {
      "image/png": "[encoded data removed]",
      "text/plain": [
       "<Figure size 432x288 with 1 Axes>"
      ]
     },
     "metadata": {
      "needs_background": "light"
     },
     "output_type": "display_data"
    }
   ],
   "source": [
    "df[['Birth Year', 'Trip Duration']].plot.scatter(x = 'Birth Year', y = 'Trip Duration');"
   ]
  },
  {
   "cell_type": "code",
   "execution_count": 140,
   "metadata": {},
   "outputs": [
    {
     "data": {
      "image/png": "[encoded data removed]",
      "text/plain": [
       "<Figure size 720x360 with 1 Axes>"
      ]
     },
     "metadata": {
      "needs_background": "light"
     },
     "output_type": "display_data"
    }
   ],
   "source": [
    "df['Birth Year'].hist(bins = 60, figsize = (10,5));"
   ]
  },
  {
   "cell_type": "code",
   "execution_count": 141,
   "metadata": {},
   "outputs": [
    {
     "data": {
      "image/png": "[encoded data removed]",
      "text/plain": [
       "<Figure size 432x288 with 1 Axes>"
      ]
     },
     "metadata": {
      "needs_background": "light"
     },
     "output_type": "display_data"
    }
   ],
   "source": [
    "df.hour.hist(bins = 20);"
   ]
  },
  {
   "cell_type": "markdown",
   "metadata": {},
   "source": [
    "> 参考资料\n",
    "\n",
    "- Hist  https://community.modeanalytics.com/python/tutorial/python-histograms-boxplots-and-distributions/\n",
    "- Boxplot  https://pandas.pydata.org/pandas-docs/stable/generated/pandas.core.groupby.DataFrameGroupBy.boxplot.html\n",
    "- Bar  https://pandas.pydata.org/pandas-docs/stable/generated/pandas.DataFrame.plot.bar.html\n",
    "- Line  https://pandas.pydata.org/pandas-docs/stable/generated/pandas.DataFrame.plot.line.html\n",
    "- Barh  https://community.modeanalytics.com/python/tutorial/counting-and-plotting-in-python/"
   ]
  }
 ],
 "metadata": {
  "kernelspec": {
   "display_name": "Python 3",
   "language": "python",
   "name": "python3"
  },
  "language_info": {
   "codemirror_mode": {
    "name": "ipython",
    "version": 3
   },
   "file_extension": ".py",
   "mimetype": "text/x-python",
   "name": "python",
   "nbconvert_exporter": "python",
   "pygments_lexer": "ipython3",
   "version": "3.6.8"
  }
 },
 "nbformat": 4,
 "nbformat_minor": 2
}
