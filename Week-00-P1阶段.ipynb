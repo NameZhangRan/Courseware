{
 "cells": [
  {
   "cell_type": "markdown",
   "metadata": {},
   "source": [
    "![](https://image-1256668828.cos.ap-shanghai.myqcloud.com/data_01.png)"
   ]
  },
  {
   "cell_type": "markdown",
   "metadata": {},
   "source": [
    "## 本周摘要\n",
    "\n",
    "- 学前须知\n",
    "- 课程体系\n",
    "- 学习工具使用"
   ]
  },
  {
   "cell_type": "markdown",
   "metadata": {},
   "source": [
    "- ` 讲师个人主页：` www.zhang-ran.com"
   ]
  },
  {
   "cell_type": "markdown",
   "metadata": {},
   "source": [
    ">- 开始录屏"
   ]
  },
  {
   "cell_type": "markdown",
   "metadata": {},
   "source": [
    "- 按需知情：就是项目导向，在项目里找重点，避免教科书从第一页开始到放弃的情况\n",
    "\n",
    "- 无需理解：指的是代码和分析方法学的时候很生硬，项目中运营几次后理解程度就加深了，即先应用后理解"
   ]
  },
  {
   "cell_type": "markdown",
   "metadata": {},
   "source": [
    "- 学习路径\n",
    "- 我的教室\n",
    "- 答疑路径\n",
    "- 班级主页\n",
    "- 浏览器推荐\n",
    "- 加讲师微信\n",
    "- 我的教室和项目提交演示"
   ]
  },
  {
   "cell_type": "markdown",
   "metadata": {},
   "source": [
    "`Week-01直播预告`\n",
    "\n",
    "- SQL和Python的时间安排\n",
    "- 新手学习Python的注意"
   ]
  }
 ],
 "metadata": {
  "kernelspec": {
   "display_name": "Python 3",
   "language": "python",
   "name": "python3"
  },
  "language_info": {
   "codemirror_mode": {
    "name": "ipython",
    "version": 3
   },
   "file_extension": ".py",
   "mimetype": "text/x-python",
   "name": "python",
   "nbconvert_exporter": "python",
   "pygments_lexer": "ipython3",
   "version": "3.6.8"
  }
 },
 "nbformat": 4,
 "nbformat_minor": 2
}
