{
 "cells": [
  {
   "cell_type": "markdown",
   "metadata": {},
   "source": [
    "![](https://image-1256668828.cos.ap-shanghai.myqcloud.com/data_01.png)"
   ]
  },
  {
   "cell_type": "markdown",
   "metadata": {},
   "source": [
    "## 本周摘要\n",
    "\n",
    "- 本地配置数据分析环境"
   ]
  },
  {
   "cell_type": "markdown",
   "metadata": {},
   "source": [
    "> TO DO：截图Windows按照界面对象存储"
   ]
  },
  {
   "cell_type": "markdown",
   "metadata": {},
   "source": [
    "- ` 讲师个人主页：` www.zhang-ran.com"
   ]
  },
  {
   "cell_type": "markdown",
   "metadata": {},
   "source": [
    ">- 开始录屏"
   ]
  },
  {
   "cell_type": "markdown",
   "metadata": {},
   "source": [
    "`本地配置数据分析环境`"
   ]
  },
  {
   "cell_type": "markdown",
   "metadata": {},
   "source": [
    "> 配置本地环境配置教程就是选修部分 9：anaconda 和 jupyter notebook\n",
    "\n",
    "> 终端安装法，详见Week2导学文件\n",
    "1.\tAnaconda的链接课件里有，如果下载慢，使用清华的镜像。\n",
    "2.\thttps://mirrors.tuna.tsinghua.edu.cn/anaconda/archive/?C=N&O=D\n",
    "3.\t安装后，Mac直接在终端进行后续操作、Winows在Anaconda菜单里的终端（Anaconda Prompt）进行后续操作。\n",
    "4.\t检查现在已有的虚拟环境 conda env list\n",
    "5.\t创建Python3虚拟环境示例：conda create -n py3 python=3\n",
    "6.\t记得安装模块的时候要先进入你刚才创建的虚拟环境。\n",
    "7.\tsource activate py3 并进入对应路径的文件目录（Windows不用键入source）。\n",
    "8.\t然后安装你需要的包和模块。\n",
    "9.\tconda install Jupyter Notebook NumPy pandas Matplotlib Seaborn\n",
    "10.\t然后测试你的环境是否按照好：\n",
    "11.\tjupyter notebook\n",
    "12.\tWIN的区别"
   ]
  },
  {
   "cell_type": "markdown",
   "metadata": {},
   "source": [
    "> 计算机基础技能之MAC终端和CMD命令\n",
    "1. https://www.cnblogs.com/kekec/p/3662125.html\n",
    "2. https://www.jianshu.com/p/11584cbfb4a5"
   ]
  },
  {
   "cell_type": "markdown",
   "metadata": {},
   "source": [
    "`可视化安装法：前提是安装好Anaconda`\n",
    "\n",
    "> 常见问题\n",
    "1.\t默认浏览器（WIN如果你装了360使用其默认锁定浏览器工具）\n",
    "2.\t路径\n",
    "3.\t安装包前要进入环境\n",
    "4.\tbase环境和新建环境\n",
    "5.\tjupyter使用（参考选修部分）\n",
    "\n",
    "> 在本地环境测试代码和degug以及搜索问题的演示\n",
    "1.\t课件里控制流章节 Python break 用法 的补充。\n",
    "2.\tPython while 用法。\n",
    "3.\tPython 大括号、小括号和中括号的区别。\n",
    "\n",
    "> 课件VS项目\n",
    "https://github.com/NameZhangRan\n",
    "\n",
    "> Pyhton搜索方法（由函数名搜语法和由目的搜函数名）\n",
    "\n",
    "> 区分Pyhton的py后缀脚本和Jupyter notebook的后缀ipynb文件\n",
    "\n",
    "> `项目二概览`\n",
    "1.\t为什么可以通过项目二来提高新手掌握基础Python的代码实现能力？\n",
    "2.\t项目二的背景。\n",
    "3.\t在线做项目和本地做项目须知。\n",
    "4.\t正式做项目二前先把这个小节里的练习看下，它们就是项目问题的拆解。"
   ]
  }
 ],
 "metadata": {
  "kernelspec": {
   "display_name": "Python 3",
   "language": "python",
   "name": "python3"
  },
  "language_info": {
   "codemirror_mode": {
    "name": "ipython",
    "version": 3
   },
   "file_extension": ".py",
   "mimetype": "text/x-python",
   "name": "python",
   "nbconvert_exporter": "python",
   "pygments_lexer": "ipython3",
   "version": "3.6.8"
  }
 },
 "nbformat": 4,
 "nbformat_minor": 2
}
